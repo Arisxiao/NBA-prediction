{
 "cells": [
  {
   "cell_type": "code",
   "execution_count": 1,
   "id": "7d909c50",
   "metadata": {},
   "outputs": [],
   "source": [
    "%run Preprocessing_main.ipynb\n",
    "import warnings\n",
    "warnings.filterwarnings('ignore')"
   ]
  },
  {
   "cell_type": "code",
   "execution_count": 2,
   "id": "0882dda6",
   "metadata": {},
   "outputs": [],
   "source": [
    "MVP_data['G_x'] = MVP_data['G_x'].astype(int)"
   ]
  },
  {
   "cell_type": "code",
   "execution_count": 3,
   "id": "bd3b8f2f",
   "metadata": {},
   "outputs": [],
   "source": [
    "def drop_col(data):\n",
    "    corr = data.corr()\n",
    "    NEW_data = data\n",
    "    del_list = []\n",
    "    for i in corr:\n",
    "        for ind in corr[(corr[i]>0.9)&(corr[i]<1)].index:\n",
    "            if ind not in del_list:\n",
    "                try:\n",
    "                    NEW_data = NEW_data.drop(ind, axis = 1)\n",
    "                except:\n",
    "                    continue\n",
    "        del_list.append(i)\n",
    "    NEW_data = NEW_data.drop('Player', axis = 1)\n",
    "    return NEW_data"
   ]
  },
  {
   "cell_type": "code",
   "execution_count": 4,
   "id": "32094b5d",
   "metadata": {
    "scrolled": true
   },
   "outputs": [],
   "source": [
    "NEW_data = drop_col(MVP_data)"
   ]
  },
  {
   "cell_type": "code",
   "execution_count": 5,
   "id": "fdfbd733",
   "metadata": {},
   "outputs": [],
   "source": [
    "scaler = StandardScaler()\n",
    "# standardize through years\n",
    "def std_scale_split(data, year_names):\n",
    "    X_train_result = pd.DataFrame()\n",
    "    X_test_result = pd.DataFrame()\n",
    "    y_train_result = pd.DataFrame()\n",
    "    y_test_result = pd.DataFrame()\n",
    "    for i in year_names:\n",
    "        \n",
    "        data_year = data[data['year_y']==i]\n",
    "        data_year = data_year.drop(columns='year_y')\n",
    "        \n",
    "        X = data_year.iloc[:, :-1]\n",
    "        y = data_year.iloc[:, -1]\n",
    "\n",
    "        X_train, X_test, y_train, y_test = train_test_split(X, y, test_size = 0.25, random_state = 1)\n",
    "        train_scaled = scaler.fit_transform(X_train)\n",
    "        test_scaled = scaler.transform(X_test)\n",
    "        \n",
    "        X_train_result = pd.concat([X_train_result, pd.DataFrame(train_scaled)])\n",
    "        X_test_result = pd.concat([X_test_result, pd.DataFrame(test_scaled)])\n",
    "        y_train_result = pd.concat([y_train_result, y_train])\n",
    "        y_test_result = pd.concat([y_test_result, y_test])\n",
    "        \n",
    "    return X_train_result, X_test_result, y_train_result, y_test_result\n",
    "\n",
    "X_train, X_test, y_train, y_test = std_scale_split(NEW_data, year_names)\n",
    "\n",
    "pca = PCA(n_components = 15, random_state = 1)\n",
    "X_train = pd.DataFrame(pca.fit_transform(X_train))\n",
    "X_test = pd.DataFrame(pca.transform(X_test))"
   ]
  },
  {
   "cell_type": "code",
   "execution_count": 6,
   "id": "e7ea7ede",
   "metadata": {
    "scrolled": true
   },
   "outputs": [
    {
     "name": "stdout",
     "output_type": "stream",
     "text": [
      "\n",
      "Regression statistics\n",
      "\n",
      "                      Mean Error (ME) : -0.0000\n",
      "       Root Mean Squared Error (RMSE) : 0.2037\n",
      "            Mean Absolute Error (MAE) : 0.1589\n",
      "          Mean Percentage Error (MPE) : -367.2123\n",
      "Mean Absolute Percentage Error (MAPE) : 3198.3709\n",
      "None\n",
      "\n",
      "Regression statistics\n",
      "\n",
      "                      Mean Error (ME) : -0.0041\n",
      "       Root Mean Squared Error (RMSE) : 0.1640\n",
      "            Mean Absolute Error (MAE) : 0.1334\n",
      "          Mean Percentage Error (MPE) : -31.0259\n",
      "Mean Absolute Percentage Error (MAPE) : 1253.8157\n",
      "None\n"
     ]
    }
   ],
   "source": [
    "regressor = LinearRegression()\n",
    "regressor.fit(X_train, y_train)\n",
    "y_pred = regressor.predict(X_test)\n",
    "y_train_pred = regressor.predict(X_train)\n",
    "print(regressionSummary(y_train, y_train_pred))\n",
    "print(regressionSummary(y_test, y_pred))\n",
    "lin_mse = mean_squared_error(y_test, y_pred)"
   ]
  },
  {
   "cell_type": "code",
   "execution_count": 7,
   "id": "1fe7f320",
   "metadata": {},
   "outputs": [],
   "source": [
    "cor = np.corrcoef(np.array(y_test).reshape(len(y_test)), np.array(y_pred).reshape(len(y_pred)))\n",
    "lin_cor = cor[1, 0]"
   ]
  },
  {
   "cell_type": "code",
   "execution_count": 8,
   "id": "8dccf23f",
   "metadata": {},
   "outputs": [
    {
     "name": "stdout",
     "output_type": "stream",
     "text": [
      "\n",
      "Regression statistics\n",
      "\n",
      "                      Mean Error (ME) : -0.0118\n",
      "       Root Mean Squared Error (RMSE) : 0.1121\n",
      "            Mean Absolute Error (MAE) : 0.0841\n",
      "          Mean Percentage Error (MPE) : -1231.4109\n",
      "Mean Absolute Percentage Error (MAPE) : 1809.1907\n",
      "None\n",
      "\n",
      "Regression statistics\n",
      "\n",
      "                      Mean Error (ME) : -0.0400\n",
      "       Root Mean Squared Error (RMSE) : 0.2009\n",
      "            Mean Absolute Error (MAE) : 0.1602\n",
      "          Mean Percentage Error (MPE) : -973.8931\n",
      "Mean Absolute Percentage Error (MAPE) : 1147.1282\n",
      "None\n"
     ]
    }
   ],
   "source": [
    "regressor = SVR()\n",
    "regressor.fit(X = X_train, y = y_train)\n",
    "y_pred = regressor.predict(X_test)\n",
    "y_train_pred = regressor.predict(X_train)\n",
    "print(regressionSummary(y_train, y_train_pred))\n",
    "print(regressionSummary(y_test, y_pred))\n",
    "SVR_mse = mean_squared_error(y_test, y_pred)"
   ]
  },
  {
   "cell_type": "code",
   "execution_count": 9,
   "id": "9ab6d686",
   "metadata": {},
   "outputs": [],
   "source": [
    "cor = np.corrcoef(np.array(y_test).reshape(len(y_test)), np.array(y_pred).reshape(len(y_pred)))\n",
    "SVR_cor = cor[1, 0]"
   ]
  },
  {
   "cell_type": "code",
   "execution_count": 10,
   "id": "b06f7e1c",
   "metadata": {},
   "outputs": [
    {
     "name": "stdout",
     "output_type": "stream",
     "text": [
      "alpha: 0.0250, CORR: 0.4189\n"
     ]
    }
   ],
   "source": [
    "fin_alpha = 0\n",
    "min_mse = 1E20\n",
    "fin_cor = -1\n",
    "for alpha in np.linspace(0, 0.5, 21):\n",
    "    regressor = DecisionTreeRegressor(ccp_alpha = alpha, random_state = 1)\n",
    "    regressor.fit(X = X_train, y = np.array(y_train).reshape(len(y_train), ))\n",
    "    y_pred = regressor.predict(X_test)\n",
    "    y_train_pred = regressor.predict(X_train)\n",
    "    MSE = mean_squared_error(y_test, y_pred)\n",
    "    cor = np.corrcoef(np.array(y_test).reshape(len(y_test)), np.array(y_pred).reshape(len(y_pred)))\n",
    "    if cor[1, 0] > fin_cor:\n",
    "        fin_alpha = alpha\n",
    "        fin_cor = cor[1, 0]\n",
    "print('alpha: {:1.4f}, CORR: {:1.4f}'.format(fin_alpha, fin_cor))\n",
    "tree_cor = fin_cor"
   ]
  },
  {
   "cell_type": "code",
   "execution_count": 11,
   "id": "0a224234",
   "metadata": {},
   "outputs": [
    {
     "name": "stdout",
     "output_type": "stream",
     "text": [
      "alpha: 0.0500, n_estimators: 80.0, CORR: 0.4924\n"
     ]
    }
   ],
   "source": [
    "min_mse = 1E20\n",
    "fin_alpha = 0\n",
    "fin_NE = 0\n",
    "\n",
    "for alpha in np.linspace(0, 0.5, 11):\n",
    "    for n_e  in np.linspace(10, 100, 10):\n",
    "        regressor = RandomForestRegressor(n_estimators = int(n_e), ccp_alpha = alpha, random_state = 1)\n",
    "        regressor.fit(X = X_train, y = np.array(y_train).reshape(len(y_train), ))\n",
    "        y_pred = regressor.predict(X_test)\n",
    "        y_train_pred = regressor.predict(X_train)\n",
    "        MSE = mean_squared_error(y_test, y_pred)\n",
    "        cor = np.corrcoef(np.array(y_test).reshape(len(y_test)), np.array(y_pred).reshape(len(y_pred)))\n",
    "        if cor[1, 0] > fin_cor:\n",
    "            fin_alpha = alpha\n",
    "            fin_cor = cor[1, 0]\n",
    "            fin_NE = n_e\n",
    "print('alpha: {:1.4f}, n_estimators: {}, CORR: {:1.4f}'.format(fin_alpha, fin_NE, fin_cor))\n",
    "for_cor = fin_cor"
   ]
  },
  {
   "cell_type": "code",
   "execution_count": 12,
   "id": "1e475a20",
   "metadata": {},
   "outputs": [
    {
     "name": "stdout",
     "output_type": "stream",
     "text": [
      "Linear regression: 0.6469\n",
      "SVR: 0.4808\n",
      "Decision tree: 0.4189\n",
      "Random forest: 0.4924\n"
     ]
    }
   ],
   "source": [
    "print('Linear regression: {:1.4f}'.format(lin_cor))\n",
    "print('SVR: {:1.4f}'.format(SVR_cor))\n",
    "print('Decision tree: {:1.4f}'.format(tree_cor))\n",
    "print('Random forest: {:1.4f}'.format(for_cor))"
   ]
  },
  {
   "cell_type": "code",
   "execution_count": null,
   "id": "7e3520ba",
   "metadata": {},
   "outputs": [],
   "source": []
  }
 ],
 "metadata": {
  "kernelspec": {
   "display_name": "Python 3 (ipykernel)",
   "language": "python",
   "name": "python3"
  },
  "language_info": {
   "codemirror_mode": {
    "name": "ipython",
    "version": 3
   },
   "file_extension": ".py",
   "mimetype": "text/x-python",
   "name": "python",
   "nbconvert_exporter": "python",
   "pygments_lexer": "ipython3",
   "version": "3.9.7"
  }
 },
 "nbformat": 4,
 "nbformat_minor": 5
}
