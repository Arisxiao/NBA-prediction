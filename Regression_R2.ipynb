{
 "cells": [
  {
   "cell_type": "code",
   "execution_count": 1,
   "id": "7d909c50",
   "metadata": {},
   "outputs": [],
   "source": [
    "%run Preprocessing_main.ipynb"
   ]
  },
  {
   "cell_type": "code",
   "execution_count": 2,
   "id": "0882dda6",
   "metadata": {},
   "outputs": [],
   "source": [
    "MVP_data['G_x'] = MVP_data['G_x'].astype(int)"
   ]
  },
  {
   "cell_type": "code",
   "execution_count": 3,
   "id": "bd3b8f2f",
   "metadata": {},
   "outputs": [],
   "source": [
    "def drop_col(data):\n",
    "    corr = data.corr()\n",
    "    NEW_data = data\n",
    "    del_list = []\n",
    "    for i in corr:\n",
    "        for ind in corr[(corr[i]>0.9)&(corr[i]<1)].index:\n",
    "            if ind not in del_list:\n",
    "                try:\n",
    "                    NEW_data = NEW_data.drop(ind, axis = 1)\n",
    "                except:\n",
    "                    continue\n",
    "        del_list.append(i)\n",
    "    NEW_data = NEW_data.drop('Player', axis = 1)\n",
    "    return NEW_data"
   ]
  },
  {
   "cell_type": "code",
   "execution_count": 4,
   "id": "32094b5d",
   "metadata": {
    "scrolled": true
   },
   "outputs": [],
   "source": [
    "NEW_data = drop_col(MVP_data)"
   ]
  },
  {
   "cell_type": "code",
   "execution_count": 5,
   "id": "fdfbd733",
   "metadata": {},
   "outputs": [],
   "source": [
    "# standardize through years\n",
    "def std_scale_split(data, year_names):\n",
    "    scaler = StandardScaler()\n",
    "    X_train_result = pd.DataFrame()\n",
    "    X_test_result = pd.DataFrame()\n",
    "    y_train_result = pd.DataFrame()\n",
    "    y_test_result = pd.DataFrame()\n",
    "    for i in year_names:\n",
    "        \n",
    "        data_year = data[data['year_y']==i]\n",
    "        data_year = data_year.drop(columns='year_y')\n",
    "        \n",
    "        X = data_year.iloc[:, :-1]\n",
    "        y = data_year.iloc[:, -1]\n",
    "\n",
    "        X_train, X_test, y_train, y_test = train_test_split(X, y, test_size = 0.25, random_state = 1)\n",
    "        train_scaled = scaler.fit_transform(X_train)\n",
    "        test_scaled = scaler.transform(X_test)\n",
    "        \n",
    "        X_train_result = pd.concat([X_train_result, pd.DataFrame(train_scaled)])\n",
    "        X_test_result = pd.concat([X_test_result, pd.DataFrame(test_scaled)])\n",
    "        y_train_result = pd.concat([y_train_result, y_train])\n",
    "        y_test_result = pd.concat([y_test_result, y_test])\n",
    "        \n",
    "    return X_train_result, X_test_result, y_train_result, y_test_result\n",
    "\n",
    "X_train, X_test, y_train, y_test = std_scale_split(NEW_data, year_names)"
   ]
  },
  {
   "cell_type": "code",
   "execution_count": 6,
   "id": "e7ea7ede",
   "metadata": {
    "scrolled": true
   },
   "outputs": [
    {
     "name": "stdout",
     "output_type": "stream",
     "text": [
      "\n",
      "Regression statistics\n",
      "\n",
      "                      Mean Error (ME) : 0.0000\n",
      "       Root Mean Squared Error (RMSE) : 0.1983\n",
      "            Mean Absolute Error (MAE) : 0.1541\n",
      "          Mean Percentage Error (MPE) : -480.8082\n",
      "Mean Absolute Percentage Error (MAPE) : 3054.9236\n",
      "None\n",
      "\n",
      "Regression statistics\n",
      "\n",
      "                      Mean Error (ME) : -0.0171\n",
      "       Root Mean Squared Error (RMSE) : 0.1603\n",
      "            Mean Absolute Error (MAE) : 0.1254\n",
      "          Mean Percentage Error (MPE) : -192.2601\n",
      "Mean Absolute Percentage Error (MAPE) : 922.2176\n",
      "None\n"
     ]
    }
   ],
   "source": [
    "regressor = LinearRegression()\n",
    "regressor.fit(X_train, y_train)\n",
    "y_pred = regressor.predict(X_test)\n",
    "y_train_pred = regressor.predict(X_train)\n",
    "print(regressionSummary(y_train, y_train_pred))\n",
    "print(regressionSummary(y_test, y_pred))\n",
    "lin_mse = mean_squared_error(y_test, y_pred)"
   ]
  },
  {
   "cell_type": "code",
   "execution_count": 7,
   "id": "06d3409e",
   "metadata": {},
   "outputs": [],
   "source": [
    "lin_r2 = r2_score(np.array(y_test).reshape(len(y_test)), np.array(y_pred).reshape(len(y_pred)))"
   ]
  },
  {
   "cell_type": "code",
   "execution_count": 8,
   "id": "8dccf23f",
   "metadata": {},
   "outputs": [
    {
     "name": "stdout",
     "output_type": "stream",
     "text": [
      "\n",
      "Regression statistics\n",
      "\n",
      "                      Mean Error (ME) : -0.0128\n",
      "       Root Mean Squared Error (RMSE) : 0.1078\n",
      "            Mean Absolute Error (MAE) : 0.0824\n",
      "          Mean Percentage Error (MPE) : -1233.9688\n",
      "Mean Absolute Percentage Error (MAPE) : 1890.8296\n",
      "None\n",
      "\n",
      "Regression statistics\n",
      "\n",
      "                      Mean Error (ME) : -0.0461\n",
      "       Root Mean Squared Error (RMSE) : 0.2011\n",
      "            Mean Absolute Error (MAE) : 0.1626\n",
      "          Mean Percentage Error (MPE) : -1089.9168\n",
      "Mean Absolute Percentage Error (MAPE) : 1289.5220\n",
      "None\n"
     ]
    }
   ],
   "source": [
    "regressor = SVR()\n",
    "regressor.fit(X = X_train, y = y_train)\n",
    "y_pred = regressor.predict(X_test)\n",
    "y_train_pred = regressor.predict(X_train)\n",
    "print(regressionSummary(y_train, y_train_pred))\n",
    "print(regressionSummary(y_test, y_pred))\n",
    "SVR_mse = mean_squared_error(y_test, y_pred)"
   ]
  },
  {
   "cell_type": "code",
   "execution_count": 9,
   "id": "7ca9d376",
   "metadata": {},
   "outputs": [],
   "source": [
    "SVR_r2 = r2_score(np.array(y_test).reshape(len(y_test)), np.array(y_pred).reshape(len(y_pred)))"
   ]
  },
  {
   "cell_type": "code",
   "execution_count": 10,
   "id": "b06f7e1c",
   "metadata": {},
   "outputs": [
    {
     "name": "stdout",
     "output_type": "stream",
     "text": [
      "alpha: 0.0500, R2: -0.0185\n"
     ]
    }
   ],
   "source": [
    "fin_alpha = 0\n",
    "fin_r2 = -1E20\n",
    "for alpha in np.linspace(0, 0.5, 21):\n",
    "    regressor = DecisionTreeRegressor(ccp_alpha = alpha, random_state = 1)\n",
    "    regressor.fit(X = X_train, y = np.array(y_train).reshape(len(y_train), ))\n",
    "    y_pred = regressor.predict(X_test)\n",
    "    y_train_pred = regressor.predict(X_train)\n",
    "    r2 = r2_score(np.array(y_test).reshape(len(y_test)), np.array(y_pred).reshape(len(y_pred)))\n",
    "    if r2 > fin_r2:\n",
    "        fin_alpha = alpha\n",
    "        fin_r2 = r2\n",
    "print('alpha: {:1.4f}, R2: {:1.4f}'.format(fin_alpha, fin_r2))\n",
    "tree_r2 = fin_r2"
   ]
  },
  {
   "cell_type": "code",
   "execution_count": 11,
   "id": "0a224234",
   "metadata": {},
   "outputs": [
    {
     "name": "stdout",
     "output_type": "stream",
     "text": [
      "alpha: 0.0500, R2: 0.1553\n"
     ]
    }
   ],
   "source": [
    "min_mse = 1E20\n",
    "fin_alpha = 0\n",
    "fin_NE = 0\n",
    "fin_r2 = -1E20\n",
    "\n",
    "for alpha in np.linspace(0, 0.5, 11):\n",
    "    for n_e  in np.linspace(10, 100, 10):\n",
    "        regressor = RandomForestRegressor(n_estimators = int(n_e), ccp_alpha = alpha, random_state = 1)\n",
    "        regressor.fit(X = X_train, y = np.array(y_train).reshape(len(y_train), ))\n",
    "        y_pred = regressor.predict(X_test)\n",
    "        y_train_pred = regressor.predict(X_train)\n",
    "        MSE = mean_squared_error(y_test, y_pred)\n",
    "        r2 = r2_score(np.array(y_test).reshape(len(y_test)), np.array(y_pred).reshape(len(y_pred)))\n",
    "        if r2 > fin_r2:\n",
    "            fin_alpha = alpha\n",
    "            fin_r2 = r2\n",
    "print('alpha: {:1.4f}, R2: {:1.4f}'.format(fin_alpha, fin_r2))\n",
    "for_r2 = fin_r2"
   ]
  },
  {
   "cell_type": "markdown",
   "id": "5c0a8d0c",
   "metadata": {},
   "source": [
    "### Neural Network"
   ]
  },
  {
   "cell_type": "code",
   "execution_count": 12,
   "id": "fa1a7331",
   "metadata": {},
   "outputs": [],
   "source": [
    "# standardize through years\n",
    "def std_scale_split(data, year_names):\n",
    "    scaler = StandardScaler()\n",
    "    X_train_result = pd.DataFrame()\n",
    "    X_test_result = pd.DataFrame()\n",
    "    y_train_result = pd.DataFrame()\n",
    "    y_test_result = pd.DataFrame()\n",
    "    for i in year_names:\n",
    "        \n",
    "        data_year = data[data['year_y']==i]\n",
    "        data_year = data_year.drop(columns='year_y')\n",
    "        \n",
    "        X = data_year.iloc[:, :-1]\n",
    "        y = data_year.iloc[:, -1]\n",
    "        \n",
    "        scaler = MinMaxScaler()\n",
    "        X_train, X_test, y_train, y_test = train_test_split(X, y, test_size = 0.25, random_state = 1)\n",
    "        train_scaled = scaler.fit_transform(X_train)\n",
    "        test_scaled = scaler.transform(X_test)\n",
    "        \n",
    "        X_train_result = pd.concat([X_train_result, pd.DataFrame(train_scaled)])\n",
    "        X_test_result = pd.concat([X_test_result, pd.DataFrame(test_scaled)])\n",
    "        y_train_result = pd.concat([y_train_result, y_train])\n",
    "        y_test_result = pd.concat([y_test_result, y_test])\n",
    "        \n",
    "    return X_train_result, X_test_result, y_train_result, y_test_result\n",
    "\n",
    "X_train, X_test, y_train, y_test = std_scale_split(NEW_data, year_names)"
   ]
  },
  {
   "cell_type": "code",
   "execution_count": 13,
   "id": "47855bef",
   "metadata": {
    "scrolled": true
   },
   "outputs": [
    {
     "name": "stdout",
     "output_type": "stream",
     "text": [
      "layer size: 8.0000, batch size: 45.0000, R2: 0.4101\n"
     ]
    }
   ],
   "source": [
    "best_r2 = -1E20\n",
    "best_bat = 0\n",
    "best_size = 0\n",
    "\n",
    "for size1 in [int(i) for i in np.linspace(5, 20, 16)]:\n",
    "    for bat in [int(i) for i in np.linspace(0, 100, 21)]:\n",
    "        NNRegressor = MLPRegressor(hidden_layer_sizes = (size1), batch_size = bat, \n",
    "                                   activation = 'logistic', random_state= 1)\n",
    "        NNRegressor.fit(X_train, y_train)\n",
    "        y_pred = NNRegressor.predict(X_test)\n",
    "        NN_r2 = r2_score(np.array(y_test).reshape(len(y_test)), np.array(y_pred).reshape(len(y_pred)))\n",
    "        if NN_r2 > best_r2:\n",
    "            best_r2 = NN_r2\n",
    "            best_size = size1\n",
    "            best_bat = bat\n",
    "print('layer size: {:1.4f}, batch size: {:1.4f}, R2: {:1.4f}'.format(best_size, best_bat, best_r2))\n",
    "NN_r2 = best_r2"
   ]
  },
  {
   "cell_type": "code",
   "execution_count": 14,
   "id": "1e475a20",
   "metadata": {},
   "outputs": [
    {
     "name": "stdout",
     "output_type": "stream",
     "text": [
      "Linear regression: 0.1980\n",
      "SVR: -0.2610\n",
      "Decision tree: -0.0185\n",
      "Random forest: 0.1553\n",
      "Neural Network: 0.4101\n"
     ]
    }
   ],
   "source": [
    "print('Linear regression: {:1.4f}'.format(lin_r2))\n",
    "print('SVR: {:1.4f}'.format(SVR_r2))\n",
    "print('Decision tree: {:1.4f}'.format(tree_r2))\n",
    "print('Random forest: {:1.4f}'.format(for_r2))\n",
    "print('Neural Network: {:1.4f}'.format(NN_r2))"
   ]
  },
  {
   "cell_type": "code",
   "execution_count": 15,
   "id": "9f94912f",
   "metadata": {},
   "outputs": [
    {
     "name": "stdout",
     "output_type": "stream",
     "text": [
      "layer size: 16.0000, batch size: 45.0000, R2: 0.2677\n"
     ]
    }
   ],
   "source": [
    "NNRegressor = MLPRegressor(hidden_layer_sizes = (16), batch_size = 45, \n",
    "                                   activation = 'logistic', random_state= 1)\n",
    "NNRegressor.fit(X_train, y_train)\n",
    "y_pred = NNRegressor.predict(X_test)\n",
    "r2_best_corr = r2_score(np.array(y_test).reshape(len(y_test)), np.array(y_pred).reshape(len(y_pred)))\n",
    "print('layer size: {:1.4f}, batch size: {:1.4f}, R2: {:1.4f}'.format(16, 45, r2_best_corr))"
   ]
  },
  {
   "cell_type": "code",
   "execution_count": null,
   "id": "40227c50",
   "metadata": {},
   "outputs": [],
   "source": []
  }
 ],
 "metadata": {
  "kernelspec": {
   "display_name": "Python 3",
   "language": "python",
   "name": "python3"
  },
  "language_info": {
   "codemirror_mode": {
    "name": "ipython",
    "version": 3
   },
   "file_extension": ".py",
   "mimetype": "text/x-python",
   "name": "python",
   "nbconvert_exporter": "python",
   "pygments_lexer": "ipython3",
   "version": "3.8.8"
  }
 },
 "nbformat": 4,
 "nbformat_minor": 5
}
