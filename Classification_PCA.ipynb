{
 "cells": [
  {
   "cell_type": "code",
   "execution_count": 1,
   "id": "60c83fd5",
   "metadata": {},
   "outputs": [],
   "source": [
    "%run Preprocessing_main.ipynb"
   ]
  },
  {
   "cell_type": "code",
   "execution_count": 2,
   "id": "b2e446dd",
   "metadata": {},
   "outputs": [],
   "source": [
    "# add a column of 1, and take the columns for joining\n",
    "MVP_data['Nomination'] = np.ones(len(MVP_data)).astype(int)\n",
    "ref_data = MVP_data[['Player', 'year_y', 'Nomination']]\n",
    "ref_data.columns = ['Player', 'year', 'Nomination']"
   ]
  },
  {
   "cell_type": "code",
   "execution_count": 3,
   "id": "ef25de5e",
   "metadata": {},
   "outputs": [
    {
     "name": "stdout",
     "output_type": "stream",
     "text": [
      "(2903, 24)\n"
     ]
    },
    {
     "data": {
      "text/html": [
       "<div>\n",
       "<style scoped>\n",
       "    .dataframe tbody tr th:only-of-type {\n",
       "        vertical-align: middle;\n",
       "    }\n",
       "\n",
       "    .dataframe tbody tr th {\n",
       "        vertical-align: top;\n",
       "    }\n",
       "\n",
       "    .dataframe thead th {\n",
       "        text-align: right;\n",
       "    }\n",
       "</style>\n",
       "<table border=\"1\" class=\"dataframe\">\n",
       "  <thead>\n",
       "    <tr style=\"text-align: right;\">\n",
       "      <th></th>\n",
       "      <th>G</th>\n",
       "      <th>MP</th>\n",
       "      <th>PER</th>\n",
       "      <th>TS%</th>\n",
       "      <th>3PAr</th>\n",
       "      <th>FTr</th>\n",
       "      <th>ORB%</th>\n",
       "      <th>DRB%</th>\n",
       "      <th>TRB%</th>\n",
       "      <th>AST%</th>\n",
       "      <th>...</th>\n",
       "      <th>OWS</th>\n",
       "      <th>DWS</th>\n",
       "      <th>WS</th>\n",
       "      <th>WS/48</th>\n",
       "      <th>OBPM</th>\n",
       "      <th>DBPM</th>\n",
       "      <th>BPM</th>\n",
       "      <th>VORP</th>\n",
       "      <th>year</th>\n",
       "      <th>Nomination</th>\n",
       "    </tr>\n",
       "  </thead>\n",
       "  <tbody>\n",
       "    <tr>\n",
       "      <th>3</th>\n",
       "      <td>82</td>\n",
       "      <td>3223</td>\n",
       "      <td>20.2</td>\n",
       "      <td>0.547</td>\n",
       "      <td>0.075</td>\n",
       "      <td>0.431</td>\n",
       "      <td>8.0</td>\n",
       "      <td>22.7</td>\n",
       "      <td>15.3</td>\n",
       "      <td>15.5</td>\n",
       "      <td>...</td>\n",
       "      <td>6.2</td>\n",
       "      <td>2.6</td>\n",
       "      <td>8.8</td>\n",
       "      <td>0.132</td>\n",
       "      <td>1.8</td>\n",
       "      <td>0.5</td>\n",
       "      <td>2.3</td>\n",
       "      <td>3.5</td>\n",
       "      <td>1999-2000</td>\n",
       "      <td>0</td>\n",
       "    </tr>\n",
       "    <tr>\n",
       "      <th>5</th>\n",
       "      <td>82</td>\n",
       "      <td>3070</td>\n",
       "      <td>20.6</td>\n",
       "      <td>0.570</td>\n",
       "      <td>0.288</td>\n",
       "      <td>0.282</td>\n",
       "      <td>3.2</td>\n",
       "      <td>10.5</td>\n",
       "      <td>6.8</td>\n",
       "      <td>17.0</td>\n",
       "      <td>...</td>\n",
       "      <td>9.0</td>\n",
       "      <td>1.0</td>\n",
       "      <td>10.1</td>\n",
       "      <td>0.157</td>\n",
       "      <td>5.0</td>\n",
       "      <td>-2.0</td>\n",
       "      <td>3.0</td>\n",
       "      <td>3.9</td>\n",
       "      <td>1999-2000</td>\n",
       "      <td>0</td>\n",
       "    </tr>\n",
       "    <tr>\n",
       "      <th>8</th>\n",
       "      <td>64</td>\n",
       "      <td>2201</td>\n",
       "      <td>16.9</td>\n",
       "      <td>0.542</td>\n",
       "      <td>0.207</td>\n",
       "      <td>0.359</td>\n",
       "      <td>3.9</td>\n",
       "      <td>9.3</td>\n",
       "      <td>6.5</td>\n",
       "      <td>17.9</td>\n",
       "      <td>...</td>\n",
       "      <td>3.1</td>\n",
       "      <td>0.3</td>\n",
       "      <td>3.3</td>\n",
       "      <td>0.073</td>\n",
       "      <td>1.7</td>\n",
       "      <td>-1.9</td>\n",
       "      <td>-0.2</td>\n",
       "      <td>1.0</td>\n",
       "      <td>1999-2000</td>\n",
       "      <td>0</td>\n",
       "    </tr>\n",
       "    <tr>\n",
       "      <th>9</th>\n",
       "      <td>82</td>\n",
       "      <td>2593</td>\n",
       "      <td>17.4</td>\n",
       "      <td>0.524</td>\n",
       "      <td>0.223</td>\n",
       "      <td>0.257</td>\n",
       "      <td>2.3</td>\n",
       "      <td>7.9</td>\n",
       "      <td>4.9</td>\n",
       "      <td>26.7</td>\n",
       "      <td>...</td>\n",
       "      <td>5.4</td>\n",
       "      <td>1.9</td>\n",
       "      <td>7.3</td>\n",
       "      <td>0.136</td>\n",
       "      <td>2.6</td>\n",
       "      <td>-1.4</td>\n",
       "      <td>1.2</td>\n",
       "      <td>2.1</td>\n",
       "      <td>1999-2000</td>\n",
       "      <td>0</td>\n",
       "    </tr>\n",
       "    <tr>\n",
       "      <th>10</th>\n",
       "      <td>72</td>\n",
       "      <td>2094</td>\n",
       "      <td>11.8</td>\n",
       "      <td>0.479</td>\n",
       "      <td>0.508</td>\n",
       "      <td>0.097</td>\n",
       "      <td>4.1</td>\n",
       "      <td>12.8</td>\n",
       "      <td>8.4</td>\n",
       "      <td>8.6</td>\n",
       "      <td>...</td>\n",
       "      <td>0.3</td>\n",
       "      <td>2.5</td>\n",
       "      <td>2.8</td>\n",
       "      <td>0.064</td>\n",
       "      <td>-0.1</td>\n",
       "      <td>0.4</td>\n",
       "      <td>0.3</td>\n",
       "      <td>1.2</td>\n",
       "      <td>1999-2000</td>\n",
       "      <td>0</td>\n",
       "    </tr>\n",
       "  </tbody>\n",
       "</table>\n",
       "<p>5 rows × 24 columns</p>\n",
       "</div>"
      ],
      "text/plain": [
       "     G    MP   PER    TS%   3PAr    FTr  ORB%  DRB%  TRB%  AST%  ...  OWS  \\\n",
       "3   82  3223  20.2  0.547  0.075  0.431   8.0  22.7  15.3  15.5  ...  6.2   \n",
       "5   82  3070  20.6  0.570  0.288  0.282   3.2  10.5   6.8  17.0  ...  9.0   \n",
       "8   64  2201  16.9  0.542  0.207  0.359   3.9   9.3   6.5  17.9  ...  3.1   \n",
       "9   82  2593  17.4  0.524  0.223  0.257   2.3   7.9   4.9  26.7  ...  5.4   \n",
       "10  72  2094  11.8  0.479  0.508  0.097   4.1  12.8   8.4   8.6  ...  0.3   \n",
       "\n",
       "    DWS    WS  WS/48  OBPM  DBPM  BPM  VORP       year  Nomination  \n",
       "3   2.6   8.8  0.132   1.8   0.5  2.3   3.5  1999-2000           0  \n",
       "5   1.0  10.1  0.157   5.0  -2.0  3.0   3.9  1999-2000           0  \n",
       "8   0.3   3.3  0.073   1.7  -1.9 -0.2   1.0  1999-2000           0  \n",
       "9   1.9   7.3  0.136   2.6  -1.4  1.2   2.1  1999-2000           0  \n",
       "10  2.5   2.8  0.064  -0.1   0.4  0.3   1.2  1999-2000           0  \n",
       "\n",
       "[5 rows x 24 columns]"
      ]
     },
     "execution_count": 3,
     "metadata": {},
     "output_type": "execute_result"
    }
   ],
   "source": [
    "# merge columns and fill others with 0\n",
    "new_adv = all_adv.join(ref_data.set_index(['Player', 'year']), how = 'left', on = ['Player', 'year'])\n",
    "new_adv['Nomination'] = new_adv['Nomination'].fillna(0).astype(int)\n",
    "new_adv = new_adv.drop(columns=['Player','Pos','Age','Tm'])\n",
    "print(new_adv.shape)\n",
    "new_adv.head()"
   ]
  },
  {
   "cell_type": "code",
   "execution_count": 4,
   "id": "4b161994",
   "metadata": {},
   "outputs": [],
   "source": [
    "# standardize through years\n",
    "def std_scale_split(data, year_names, test_s, random_s):\n",
    "    scaler = StandardScaler()\n",
    "    X_train_result = pd.DataFrame()\n",
    "    X_test_result = pd.DataFrame()\n",
    "    y_train_result = pd.DataFrame()\n",
    "    y_test_result = pd.DataFrame()\n",
    "    for i in year_names:\n",
    "        \n",
    "        data_year = data[data['year']==i]\n",
    "        data_year = data_year.drop(columns='year')\n",
    "        \n",
    "        X = data_year.iloc[:, :-1]\n",
    "        y = data_year.iloc[:, -1]\n",
    "\n",
    "        X_train, X_test, y_train, y_test = train_test_split(X, y, test_size = test_s, random_state = random_s)\n",
    "        train_scaled = scaler.fit_transform(X_train)\n",
    "        test_scaled = scaler.transform(X_test)\n",
    "        \n",
    "        X_train_result = pd.concat([X_train_result, pd.DataFrame(train_scaled)])\n",
    "        X_test_result = pd.concat([X_test_result, pd.DataFrame(test_scaled)])\n",
    "        y_train_result = pd.concat([y_train_result, y_train])\n",
    "        y_test_result = pd.concat([y_test_result, y_test])\n",
    "        \n",
    "    return X_train_result, X_test_result, y_train_result, y_test_result"
   ]
  },
  {
   "cell_type": "code",
   "execution_count": 5,
   "id": "36119a09",
   "metadata": {},
   "outputs": [],
   "source": [
    "# standardize through years with SMOTE method\n",
    "def smote_scale_split(data, year_names, test_s, random_s):\n",
    "    scaler = StandardScaler()\n",
    "    X_train_result = pd.DataFrame()\n",
    "    X_test_result = pd.DataFrame()\n",
    "    y_train_result = pd.DataFrame()\n",
    "    y_test_result = pd.DataFrame()\n",
    "    for i in year_names:\n",
    "        \n",
    "        data_year = data[data['year']==i]\n",
    "        data_year = data_year.drop(columns='year')\n",
    "        \n",
    "        X = data_year.iloc[:, :-1]\n",
    "        y = data_year.iloc[:, -1]\n",
    "\n",
    "        smote = SMOTE(random_state = 1)\n",
    "        X, y = smote.fit_resample(X = X, y = y)\n",
    "\n",
    "        X_train, X_test, y_train, y_test = train_test_split(X, y, test_size = test_s, random_state = random_s)\n",
    "        train_scaled = scaler.fit_transform(X_train)\n",
    "        test_scaled = scaler.transform(X_test)\n",
    "        \n",
    "        X_train_result = pd.concat([X_train_result, pd.DataFrame(train_scaled)])\n",
    "        X_test_result = pd.concat([X_test_result, pd.DataFrame(test_scaled)])\n",
    "        y_train_result = pd.concat([y_train_result, y_train])\n",
    "        y_test_result = pd.concat([y_test_result, y_test])\n",
    "        \n",
    "    return X_train_result, X_test_result, y_train_result, y_test_result"
   ]
  },
  {
   "cell_type": "markdown",
   "id": "1b9ab54c",
   "metadata": {},
   "source": [
    "## 2019-2020 as example"
   ]
  },
  {
   "cell_type": "code",
   "execution_count": 6,
   "id": "b96b5dfa",
   "metadata": {},
   "outputs": [
    {
     "data": {
      "text/html": [
       "<div>\n",
       "<style scoped>\n",
       "    .dataframe tbody tr th:only-of-type {\n",
       "        vertical-align: middle;\n",
       "    }\n",
       "\n",
       "    .dataframe tbody tr th {\n",
       "        vertical-align: top;\n",
       "    }\n",
       "\n",
       "    .dataframe thead th {\n",
       "        text-align: right;\n",
       "    }\n",
       "</style>\n",
       "<table border=\"1\" class=\"dataframe\">\n",
       "  <thead>\n",
       "    <tr style=\"text-align: right;\">\n",
       "      <th></th>\n",
       "      <th>G</th>\n",
       "      <th>MP</th>\n",
       "      <th>PER</th>\n",
       "      <th>TS%</th>\n",
       "      <th>3PAr</th>\n",
       "      <th>FTr</th>\n",
       "      <th>ORB%</th>\n",
       "      <th>DRB%</th>\n",
       "      <th>TRB%</th>\n",
       "      <th>AST%</th>\n",
       "      <th>...</th>\n",
       "      <th>OWS</th>\n",
       "      <th>DWS</th>\n",
       "      <th>WS</th>\n",
       "      <th>WS/48</th>\n",
       "      <th>OBPM</th>\n",
       "      <th>DBPM</th>\n",
       "      <th>BPM</th>\n",
       "      <th>VORP</th>\n",
       "      <th>year</th>\n",
       "      <th>Nomination</th>\n",
       "    </tr>\n",
       "  </thead>\n",
       "  <tbody>\n",
       "    <tr>\n",
       "      <th>1</th>\n",
       "      <td>72</td>\n",
       "      <td>2417</td>\n",
       "      <td>20.3</td>\n",
       "      <td>0.598</td>\n",
       "      <td>0.018</td>\n",
       "      <td>0.484</td>\n",
       "      <td>8.5</td>\n",
       "      <td>24.9</td>\n",
       "      <td>17.0</td>\n",
       "      <td>24.2</td>\n",
       "      <td>...</td>\n",
       "      <td>4.6</td>\n",
       "      <td>3.9</td>\n",
       "      <td>8.5</td>\n",
       "      <td>0.168</td>\n",
       "      <td>1.4</td>\n",
       "      <td>2.0</td>\n",
       "      <td>3.4</td>\n",
       "      <td>3.3</td>\n",
       "      <td>2019-2020</td>\n",
       "      <td>0</td>\n",
       "    </tr>\n",
       "    <tr>\n",
       "      <th>6</th>\n",
       "      <td>70</td>\n",
       "      <td>1852</td>\n",
       "      <td>20.7</td>\n",
       "      <td>0.664</td>\n",
       "      <td>0.013</td>\n",
       "      <td>0.581</td>\n",
       "      <td>12.3</td>\n",
       "      <td>24.9</td>\n",
       "      <td>18.7</td>\n",
       "      <td>8.9</td>\n",
       "      <td>...</td>\n",
       "      <td>5.2</td>\n",
       "      <td>2.9</td>\n",
       "      <td>8.2</td>\n",
       "      <td>0.212</td>\n",
       "      <td>1.4</td>\n",
       "      <td>1.0</td>\n",
       "      <td>2.3</td>\n",
       "      <td>2.0</td>\n",
       "      <td>2019-2020</td>\n",
       "      <td>0</td>\n",
       "    </tr>\n",
       "    <tr>\n",
       "      <th>12</th>\n",
       "      <td>63</td>\n",
       "      <td>1917</td>\n",
       "      <td>31.9</td>\n",
       "      <td>0.613</td>\n",
       "      <td>0.237</td>\n",
       "      <td>0.508</td>\n",
       "      <td>7.7</td>\n",
       "      <td>34.8</td>\n",
       "      <td>22.1</td>\n",
       "      <td>34.2</td>\n",
       "      <td>...</td>\n",
       "      <td>6.1</td>\n",
       "      <td>5.0</td>\n",
       "      <td>11.1</td>\n",
       "      <td>0.279</td>\n",
       "      <td>7.4</td>\n",
       "      <td>4.1</td>\n",
       "      <td>11.5</td>\n",
       "      <td>6.6</td>\n",
       "      <td>2019-2020</td>\n",
       "      <td>1</td>\n",
       "    </tr>\n",
       "    <tr>\n",
       "      <th>15</th>\n",
       "      <td>58</td>\n",
       "      <td>1902</td>\n",
       "      <td>12.4</td>\n",
       "      <td>0.525</td>\n",
       "      <td>0.289</td>\n",
       "      <td>0.206</td>\n",
       "      <td>4.0</td>\n",
       "      <td>16.1</td>\n",
       "      <td>10.1</td>\n",
       "      <td>6.4</td>\n",
       "      <td>...</td>\n",
       "      <td>0.4</td>\n",
       "      <td>0.9</td>\n",
       "      <td>1.3</td>\n",
       "      <td>0.033</td>\n",
       "      <td>-1.8</td>\n",
       "      <td>-1.8</td>\n",
       "      <td>-3.6</td>\n",
       "      <td>-0.8</td>\n",
       "      <td>2019-2020</td>\n",
       "      <td>0</td>\n",
       "    </tr>\n",
       "    <tr>\n",
       "      <th>16</th>\n",
       "      <td>69</td>\n",
       "      <td>2066</td>\n",
       "      <td>13.2</td>\n",
       "      <td>0.600</td>\n",
       "      <td>0.403</td>\n",
       "      <td>0.180</td>\n",
       "      <td>4.2</td>\n",
       "      <td>14.2</td>\n",
       "      <td>9.3</td>\n",
       "      <td>7.5</td>\n",
       "      <td>...</td>\n",
       "      <td>2.1</td>\n",
       "      <td>3.7</td>\n",
       "      <td>5.7</td>\n",
       "      <td>0.134</td>\n",
       "      <td>-0.8</td>\n",
       "      <td>1.9</td>\n",
       "      <td>1.2</td>\n",
       "      <td>1.7</td>\n",
       "      <td>2019-2020</td>\n",
       "      <td>0</td>\n",
       "    </tr>\n",
       "  </tbody>\n",
       "</table>\n",
       "<p>5 rows × 24 columns</p>\n",
       "</div>"
      ],
      "text/plain": [
       "     G    MP   PER    TS%   3PAr    FTr  ORB%  DRB%  TRB%  AST%  ...  OWS  \\\n",
       "1   72  2417  20.3  0.598  0.018  0.484   8.5  24.9  17.0  24.2  ...  4.6   \n",
       "6   70  1852  20.7  0.664  0.013  0.581  12.3  24.9  18.7   8.9  ...  5.2   \n",
       "12  63  1917  31.9  0.613  0.237  0.508   7.7  34.8  22.1  34.2  ...  6.1   \n",
       "15  58  1902  12.4  0.525  0.289  0.206   4.0  16.1  10.1   6.4  ...  0.4   \n",
       "16  69  2066  13.2  0.600  0.403  0.180   4.2  14.2   9.3   7.5  ...  2.1   \n",
       "\n",
       "    DWS    WS  WS/48  OBPM  DBPM   BPM  VORP       year  Nomination  \n",
       "1   3.9   8.5  0.168   1.4   2.0   3.4   3.3  2019-2020           0  \n",
       "6   2.9   8.2  0.212   1.4   1.0   2.3   2.0  2019-2020           0  \n",
       "12  5.0  11.1  0.279   7.4   4.1  11.5   6.6  2019-2020           1  \n",
       "15  0.9   1.3  0.033  -1.8  -1.8  -3.6  -0.8  2019-2020           0  \n",
       "16  3.7   5.7  0.134  -0.8   1.9   1.2   1.7  2019-2020           0  \n",
       "\n",
       "[5 rows x 24 columns]"
      ]
     },
     "execution_count": 6,
     "metadata": {},
     "output_type": "execute_result"
    }
   ],
   "source": [
    "df=new_adv[new_adv['year']=='2019-2020']\n",
    "df.head()"
   ]
  },
  {
   "cell_type": "code",
   "execution_count": 7,
   "id": "ed5226ea",
   "metadata": {},
   "outputs": [],
   "source": [
    "def drop_col(data):\n",
    "    corr = data.corr()\n",
    "    NEW_data = data\n",
    "    del_list = []\n",
    "    for i in corr:\n",
    "        for ind in corr[(corr[i]>0.8)&(corr[i]<1)].index:\n",
    "            if ind not in del_list:\n",
    "                try:\n",
    "                    NEW_data = NEW_data.drop(ind, axis = 1)\n",
    "                except:\n",
    "                    continue\n",
    "        del_list.append(i)\n",
    "    return NEW_data"
   ]
  },
  {
   "cell_type": "code",
   "execution_count": 8,
   "id": "db9a583a",
   "metadata": {},
   "outputs": [],
   "source": [
    "NEW_data = drop_col(df)\n",
    "NEW_data = NEW_data.drop(columns = 'year')"
   ]
  },
  {
   "cell_type": "markdown",
   "id": "7f5589c1",
   "metadata": {},
   "source": [
    "#### Preprocessing"
   ]
  },
  {
   "cell_type": "code",
   "execution_count": 9,
   "id": "56d2e63f",
   "metadata": {},
   "outputs": [],
   "source": [
    "X = NEW_data.iloc[:, :-1]\n",
    "y = NEW_data.iloc[:, -1]\n",
    "X_train, X_test, y_train, y_test = train_test_split(X, y, test_size=0.4, random_state = 1)\n",
    "\n",
    "pca = PCA(n_components = 4)\n",
    "X_train = pd.DataFrame(pca.fit_transform(X_train))\n",
    "X_test = pd.DataFrame(pca.transform(X_test))\n",
    "\n",
    "# Standardize\n",
    "scaler = StandardScaler()\n",
    "train_scaled = scaler.fit_transform(X_train)\n",
    "test_scaled = scaler.transform(X_test)"
   ]
  },
  {
   "cell_type": "markdown",
   "id": "4c86842b",
   "metadata": {},
   "source": [
    "### Logistic regression"
   ]
  },
  {
   "cell_type": "code",
   "execution_count": 10,
   "id": "2b318008",
   "metadata": {},
   "outputs": [
    {
     "name": "stdout",
     "output_type": "stream",
     "text": [
      "intercept  -4.701535490119338\n",
      "              0        1         2         3\n",
      "coeff  0.526554  2.12705 -2.183615  0.546683\n"
     ]
    }
   ],
   "source": [
    "logit_reg = LogisticRegression(penalty=\"l2\", C=1e42, solver='liblinear')\n",
    "logit_reg.fit(train_scaled, y_train)\n",
    "print('intercept ', logit_reg.intercept_[0])\n",
    "print(pd.DataFrame({'coeff': logit_reg.coef_[0]}, index=X_train.columns).transpose())\n",
    "# print('AIC', AIC_score(y_test, logit_reg.predict(test_scaled), df = len(train_scaled) + 1))"
   ]
  },
  {
   "cell_type": "code",
   "execution_count": 11,
   "id": "cff1de57",
   "metadata": {},
   "outputs": [
    {
     "name": "stdout",
     "output_type": "stream",
     "text": [
      "Confusion Matrix (Accuracy 0.9286)\n",
      "\n",
      "       Prediction\n",
      "Actual  0  1\n",
      "     0 49  1\n",
      "     1  3  3\n",
      "Confusion Matrix (Accuracy 0.8947)\n",
      "\n",
      "       Prediction\n",
      "Actual  0  1\n",
      "     0 30  2\n",
      "     1  2  4\n"
     ]
    }
   ],
   "source": [
    "# training confusion matrix\n",
    "classificationSummary(y_train, logit_reg.predict(train_scaled))\n",
    "# validation confusion matrix\n",
    "classificationSummary(y_test, logit_reg.predict(test_scaled))"
   ]
  },
  {
   "cell_type": "code",
   "execution_count": 12,
   "id": "996873ac",
   "metadata": {
    "scrolled": true
   },
   "outputs": [
    {
     "data": {
      "image/png": "[encoded data removed]",
      "text/plain": [
       "<Figure size 432x288 with 1 Axes>"
      ]
     },
     "metadata": {
      "needs_background": "light"
     },
     "output_type": "display_data"
    }
   ],
   "source": [
    "logit_roc_auc = roc_auc_score(y_test, logit_reg.predict(test_scaled))\n",
    "fpr, tpr, thresholds = roc_curve(y_test, logit_reg.predict_proba(test_scaled)[:,1])\n",
    "plt.figure()\n",
    "plt.plot(fpr, tpr, label='Logistic Regression (area = %0.2f)' % logit_roc_auc)\n",
    "plt.plot([0, 1], [0, 1],'r--')\n",
    "plt.xlim([0.0, 1.0])\n",
    "plt.ylim([0.0, 1.05])\n",
    "plt.xlabel('False Positive Rate')\n",
    "plt.ylabel('True Positive Rate')\n",
    "plt.title('Receiver operating characteristic')\n",
    "plt.legend(loc=\"lower right\")\n",
    "plt.savefig('Log_ROC')\n",
    "plt.show()"
   ]
  },
  {
   "cell_type": "markdown",
   "id": "560bdf2b",
   "metadata": {},
   "source": [
    "### Random Forest"
   ]
  },
  {
   "cell_type": "code",
   "execution_count": 13,
   "id": "163eaf7b",
   "metadata": {},
   "outputs": [
    {
     "data": {
      "text/plain": [
       "RandomForestClassifier(n_estimators=10, random_state=1)"
      ]
     },
     "execution_count": 13,
     "metadata": {},
     "output_type": "execute_result"
    }
   ],
   "source": [
    "rf = RandomForestClassifier(n_estimators=10, random_state=1)\n",
    "rf.fit(train_scaled, y_train)"
   ]
  },
  {
   "cell_type": "code",
   "execution_count": 14,
   "id": "e50b73da",
   "metadata": {
    "scrolled": false
   },
   "outputs": [
    {
     "name": "stdout",
     "output_type": "stream",
     "text": [
      "Confusion Matrix (Accuracy 0.9211)\n",
      "\n",
      "       Prediction\n",
      "Actual  0  1\n",
      "     0 32  0\n",
      "     1  3  3\n"
     ]
    }
   ],
   "source": [
    "classificationSummary(y_test, rf.predict(test_scaled))"
   ]
  },
  {
   "cell_type": "markdown",
   "id": "69f7bce1",
   "metadata": {},
   "source": [
    "### SVM"
   ]
  },
  {
   "cell_type": "code",
   "execution_count": 15,
   "id": "7f091429",
   "metadata": {},
   "outputs": [
    {
     "name": "stdout",
     "output_type": "stream",
     "text": [
      "Confusion Matrix (Accuracy 0.8421)\n",
      "\n",
      "       Prediction\n",
      "Actual  0  1\n",
      "     0 32  0\n",
      "     1  6  0\n"
     ]
    }
   ],
   "source": [
    "svc = SVC(random_state = 1)\n",
    "svc.fit(train_scaled, y_train)\n",
    "classificationSummary(y_test, svc.predict(test_scaled))"
   ]
  },
  {
   "cell_type": "markdown",
   "id": "5e535182",
   "metadata": {},
   "source": [
    "### SMOTE logistic"
   ]
  },
  {
   "cell_type": "markdown",
   "id": "af1762c4",
   "metadata": {},
   "source": [
    "#### Preprocessing"
   ]
  },
  {
   "cell_type": "code",
   "execution_count": 16,
   "id": "a2c5965e",
   "metadata": {},
   "outputs": [],
   "source": [
    "smote = SMOTE(random_state = 1)\n",
    "re_X, re_y = smote.fit_resample(X = X, y = y)\n",
    "\n",
    "X_train, X_test, y_train, y_test = train_test_split(re_X, re_y, test_size=0.4, random_state=1)\n",
    "pca = PCA(n_components = 4)\n",
    "X_train = pd.DataFrame(pca.fit_transform(X_train))\n",
    "X_test = pd.DataFrame(pca.transform(X_test))\n",
    "\n",
    "scaler = StandardScaler()\n",
    "train_scaled = scaler.fit_transform(X_train)\n",
    "test_scaled = scaler.transform(X_test)"
   ]
  },
  {
   "cell_type": "code",
   "execution_count": 17,
   "id": "0f439daf",
   "metadata": {},
   "outputs": [
    {
     "name": "stdout",
     "output_type": "stream",
     "text": [
      "intercept  -0.20628099609200584\n",
      "              0         1         2         3\n",
      "coeff  1.414138 -3.500984 -1.594736  0.777245\n"
     ]
    }
   ],
   "source": [
    "logit_reg = LogisticRegression(penalty=\"l2\", C=1e42, solver='liblinear')\n",
    "logit_reg.fit(train_scaled, y_train)\n",
    "print('intercept ', logit_reg.intercept_[0])\n",
    "print(pd.DataFrame({'coeff': logit_reg.coef_[0]}, index=X_train.columns).transpose())\n",
    "# print('AIC', AIC_score(y_test, logit_reg.predict(test_scaled), df = len(X_train.columns) + 1))"
   ]
  },
  {
   "cell_type": "code",
   "execution_count": 18,
   "id": "78c67207",
   "metadata": {},
   "outputs": [
    {
     "name": "stdout",
     "output_type": "stream",
     "text": [
      "Confusion Matrix (Accuracy 0.8571)\n",
      "\n",
      "       Prediction\n",
      "Actual  0  1\n",
      "     0 39  8\n",
      "     1  6 45\n",
      "Confusion Matrix (Accuracy 0.9091)\n",
      "\n",
      "       Prediction\n",
      "Actual  0  1\n",
      "     0 32  3\n",
      "     1  3 28\n"
     ]
    }
   ],
   "source": [
    "# training confusion matrix\n",
    "classificationSummary(y_train, logit_reg.predict(train_scaled))\n",
    "# validation confusion matrix\n",
    "classificationSummary(y_test, logit_reg.predict(test_scaled))"
   ]
  },
  {
   "cell_type": "code",
   "execution_count": 19,
   "id": "f9d3195e",
   "metadata": {},
   "outputs": [
    {
     "data": {
      "image/png": "[encoded data removed]",
      "text/plain": [
       "<Figure size 432x288 with 1 Axes>"
      ]
     },
     "metadata": {
      "needs_background": "light"
     },
     "output_type": "display_data"
    }
   ],
   "source": [
    "logit_roc_auc = roc_auc_score(y_test, logit_reg.predict(test_scaled))\n",
    "fpr, tpr, thresholds = roc_curve(y_test, logit_reg.predict_proba(test_scaled)[:,1])\n",
    "plt.figure()\n",
    "plt.plot(fpr, tpr, label='Logistic Regression (area = %0.2f)' % logit_roc_auc)\n",
    "plt.plot([0, 1], [0, 1],'r--')\n",
    "plt.xlim([0.0, 1.0])\n",
    "plt.ylim([0.0, 1.05])\n",
    "plt.xlabel('False Positive Rate')\n",
    "plt.ylabel('True Positive Rate')\n",
    "plt.title('Receiver operating characteristic')\n",
    "plt.legend(loc=\"lower right\")\n",
    "plt.savefig('Log_ROC')\n",
    "plt.show()"
   ]
  },
  {
   "cell_type": "markdown",
   "id": "0f30bd0a",
   "metadata": {},
   "source": [
    "### SMOTE forest"
   ]
  },
  {
   "cell_type": "code",
   "execution_count": 20,
   "id": "9a293c66",
   "metadata": {},
   "outputs": [
    {
     "data": {
      "text/plain": [
       "RandomForestClassifier(n_estimators=50, random_state=1)"
      ]
     },
     "execution_count": 20,
     "metadata": {},
     "output_type": "execute_result"
    }
   ],
   "source": [
    "rf = RandomForestClassifier(n_estimators=50, random_state=1)\n",
    "rf.fit(train_scaled, y_train)"
   ]
  },
  {
   "cell_type": "code",
   "execution_count": 21,
   "id": "02c58cc9",
   "metadata": {},
   "outputs": [
    {
     "name": "stdout",
     "output_type": "stream",
     "text": [
      "Confusion Matrix (Accuracy 0.9091)\n",
      "\n",
      "       Prediction\n",
      "Actual  0  1\n",
      "     0 30  5\n",
      "     1  1 30\n"
     ]
    }
   ],
   "source": [
    "classificationSummary(y_test, rf.predict(test_scaled))"
   ]
  },
  {
   "cell_type": "markdown",
   "id": "c18b890d",
   "metadata": {},
   "source": [
    "### SMOTE SVM"
   ]
  },
  {
   "cell_type": "code",
   "execution_count": 22,
   "id": "a4e8b058",
   "metadata": {},
   "outputs": [
    {
     "name": "stdout",
     "output_type": "stream",
     "text": [
      "Confusion Matrix (Accuracy 0.9697)\n",
      "\n",
      "       Prediction\n",
      "Actual  0  1\n",
      "     0 34  1\n",
      "     1  1 30\n"
     ]
    }
   ],
   "source": [
    "svc = SVC(random_state = 1)\n",
    "svc.fit(train_scaled, y_train)\n",
    "classificationSummary(y_test, svc.predict(test_scaled))"
   ]
  },
  {
   "cell_type": "markdown",
   "id": "780baeef",
   "metadata": {},
   "source": [
    "## All data"
   ]
  },
  {
   "cell_type": "code",
   "execution_count": 23,
   "id": "cf2a28f6",
   "metadata": {},
   "outputs": [],
   "source": [
    "df1 = new_adv\n",
    "all_data = drop_col(df1)\n",
    "all_data = all_data.dropna()"
   ]
  },
  {
   "cell_type": "markdown",
   "id": "dd16e8fc",
   "metadata": {},
   "source": [
    "#### Preprocessing"
   ]
  },
  {
   "cell_type": "code",
   "execution_count": 24,
   "id": "9a43adc6",
   "metadata": {},
   "outputs": [],
   "source": [
    "X_train, X_test, y_train, y_test = std_scale_split(all_data, year_names, test_s = 0.4, random_s = 1)\n",
    "pca = PCA(n_components = 2)\n",
    "X_train = pd.DataFrame(pca.fit_transform(X_train))\n",
    "X_test = pd.DataFrame(pca.transform(X_test))"
   ]
  },
  {
   "cell_type": "markdown",
   "id": "8868044c",
   "metadata": {},
   "source": [
    "### Random forest"
   ]
  },
  {
   "cell_type": "code",
   "execution_count": 25,
   "id": "49d3e982",
   "metadata": {},
   "outputs": [
    {
     "data": {
      "text/plain": [
       "RandomForestClassifier(n_estimators=50, random_state=1)"
      ]
     },
     "execution_count": 25,
     "metadata": {},
     "output_type": "execute_result"
    }
   ],
   "source": [
    "rf = RandomForestClassifier(n_estimators=50, random_state=1)\n",
    "rf.fit(X_train, y_train)"
   ]
  },
  {
   "cell_type": "code",
   "execution_count": 26,
   "id": "77751bbc",
   "metadata": {},
   "outputs": [
    {
     "name": "stdout",
     "output_type": "stream",
     "text": [
      "Confusion Matrix (Accuracy 0.9223)\n",
      "\n",
      "       Prediction\n",
      "Actual    0    1\n",
      "     0 1008   39\n",
      "     1   52   72\n"
     ]
    }
   ],
   "source": [
    "classificationSummary(y_test, rf.predict(X_test))\n",
    "for_acc = accuracy_score(y_test, rf.predict(X_test))"
   ]
  },
  {
   "cell_type": "markdown",
   "id": "ddc968c9",
   "metadata": {},
   "source": [
    "### Logistic regression"
   ]
  },
  {
   "cell_type": "code",
   "execution_count": 27,
   "id": "5f41c3eb",
   "metadata": {},
   "outputs": [
    {
     "name": "stdout",
     "output_type": "stream",
     "text": [
      "intercept  -4.487109345740257\n",
      "              0         1\n",
      "coeff  0.524016  1.613425\n",
      "AIC 9547.328571814625\n"
     ]
    }
   ],
   "source": [
    "logit_reg = LogisticRegression(penalty=\"l2\", C=1e42, solver='liblinear')\n",
    "logit_reg.fit(X_train, y_train)\n",
    "print('intercept ', logit_reg.intercept_[0])\n",
    "print(pd.DataFrame({'coeff': logit_reg.coef_[0]}, index=X_train.columns).transpose())\n",
    "print('AIC', AIC_score(y_test, logit_reg.predict(X_test), df = len(X_train.columns)\n",
    "+ 1))"
   ]
  },
  {
   "cell_type": "code",
   "execution_count": 28,
   "id": "4cb2adbd",
   "metadata": {
    "scrolled": true
   },
   "outputs": [
    {
     "name": "stdout",
     "output_type": "stream",
     "text": [
      "Confusion Matrix (Accuracy 0.9319)\n",
      "\n",
      "       Prediction\n",
      "Actual    0    1\n",
      "     0 1526   33\n",
      "     1   85   88\n",
      "Confusion Matrix (Accuracy 0.9377)\n",
      "\n",
      "       Prediction\n",
      "Actual    0    1\n",
      "     0 1023   24\n",
      "     1   49   75\n"
     ]
    }
   ],
   "source": [
    "# training confusion matrix\n",
    "classificationSummary(y_train, logit_reg.predict(X_train))\n",
    "# validation confusion matrix\n",
    "classificationSummary(y_test, logit_reg.predict(X_test))\n",
    "log_acc = accuracy_score(y_test, logit_reg.predict(X_test))"
   ]
  },
  {
   "cell_type": "code",
   "execution_count": 29,
   "id": "3468b5fc",
   "metadata": {
    "scrolled": false
   },
   "outputs": [
    {
     "data": {
      "image/png": "[encoded data removed]",
      "text/plain": [
       "<Figure size 432x288 with 1 Axes>"
      ]
     },
     "metadata": {
      "needs_background": "light"
     },
     "output_type": "display_data"
    }
   ],
   "source": [
    "logit_roc_auc = roc_auc_score(y_test, logit_reg.predict(X_test))\n",
    "fpr, tpr, thresholds = roc_curve(y_test, logit_reg.predict_proba(X_test)[:,1])\n",
    "plt.figure()\n",
    "plt.plot(fpr, tpr, label='Logistic Regression (area = %0.2f)' % logit_roc_auc)\n",
    "plt.plot([0, 1], [0, 1],'r--')\n",
    "plt.xlim([0.0, 1.0])\n",
    "plt.ylim([0.0, 1.05])\n",
    "plt.xlabel('False Positive Rate')\n",
    "plt.ylabel('True Positive Rate')\n",
    "plt.title('Receiver operating characteristic')\n",
    "plt.legend(loc=\"lower right\")\n",
    "plt.savefig('Log_ROC')\n",
    "plt.show()"
   ]
  },
  {
   "cell_type": "markdown",
   "id": "08b1e328",
   "metadata": {},
   "source": [
    "### SVM"
   ]
  },
  {
   "cell_type": "code",
   "execution_count": 30,
   "id": "080194c7",
   "metadata": {},
   "outputs": [
    {
     "name": "stdout",
     "output_type": "stream",
     "text": [
      "Confusion Matrix (Accuracy 0.9325)\n",
      "\n",
      "       Prediction\n",
      "Actual    0    1\n",
      "     0 1034   13\n",
      "     1   66   58\n"
     ]
    }
   ],
   "source": [
    "svc = SVC(random_state = 1)\n",
    "svc.fit(X_train, y_train)\n",
    "classificationSummary(y_test, svc.predict(X_test))\n",
    "svm_acc = accuracy_score(y_test, svc.predict(X_test))"
   ]
  },
  {
   "cell_type": "markdown",
   "id": "cb92755c",
   "metadata": {},
   "source": [
    "### SMOTE"
   ]
  },
  {
   "cell_type": "markdown",
   "id": "f3e0f9a4",
   "metadata": {},
   "source": [
    "### preprocessing"
   ]
  },
  {
   "cell_type": "code",
   "execution_count": 38,
   "id": "7c7a4b17",
   "metadata": {},
   "outputs": [],
   "source": [
    "X_train, X_test, y_train, y_test = smote_scale_split(all_data, year_names, test_s = 0.4, random_s = 1)\n",
    "pca = PCA(n_components = 2)\n",
    "X_train = pd.DataFrame(pca.fit_transform(X_train))\n",
    "X_test = pd.DataFrame(pca.transform(X_test))"
   ]
  },
  {
   "cell_type": "markdown",
   "id": "4b8b6fbb",
   "metadata": {},
   "source": [
    "### Random Forest"
   ]
  },
  {
   "cell_type": "code",
   "execution_count": 39,
   "id": "cdc9594a",
   "metadata": {},
   "outputs": [
    {
     "data": {
      "text/plain": [
       "RandomForestClassifier(n_estimators=50, random_state=1)"
      ]
     },
     "execution_count": 39,
     "metadata": {},
     "output_type": "execute_result"
    }
   ],
   "source": [
    "rf = RandomForestClassifier(n_estimators=50, random_state=1)\n",
    "rf.fit(X_train, y_train)"
   ]
  },
  {
   "cell_type": "code",
   "execution_count": 42,
   "id": "abb25f94",
   "metadata": {
    "scrolled": true
   },
   "outputs": [
    {
     "name": "stdout",
     "output_type": "stream",
     "text": [
      "Confusion Matrix (Accuracy 0.9160)\n",
      "\n",
      "       Prediction\n",
      "Actual   0   1\n",
      "     0 947  99\n",
      "     1  77 971\n"
     ]
    }
   ],
   "source": [
    "classificationSummary(y_test, rf.predict(X_test))\n",
    "bal_for_acc = accuracy_score(y_test, rf.predict(X_test))"
   ]
  },
  {
   "cell_type": "code",
   "execution_count": 43,
   "id": "07741488",
   "metadata": {},
   "outputs": [
    {
     "data": {
      "image/png": "[encoded data removed]",
      "text/plain": [
       "<Figure size 432x288 with 1 Axes>"
      ]
     },
     "metadata": {
      "needs_background": "light"
     },
     "output_type": "display_data"
    }
   ],
   "source": [
    "rf_roc_auc = roc_auc_score(y_test, rf.predict(X_test))\n",
    "fpr, tpr, thresholds = roc_curve(y_test, rf.predict_proba(X_test)[:,1])\n",
    "plt.figure()\n",
    "plt.plot(fpr, tpr, label='RM (area = %0.2f)' % rf_roc_auc)\n",
    "plt.plot([0, 1], [0, 1],'r--')\n",
    "plt.xlim([0.0, 1.0])\n",
    "plt.ylim([0.0, 1.05])\n",
    "plt.xlabel('False Positive Rate')\n",
    "plt.ylabel('True Positive Rate')\n",
    "plt.title('Receiver operating characteristic')\n",
    "plt.legend(loc=\"lower right\")\n",
    "plt.savefig('Log_ROC')\n",
    "plt.show()"
   ]
  },
  {
   "cell_type": "markdown",
   "id": "f029b55f",
   "metadata": {},
   "source": [
    "### SMOTE logistic regression"
   ]
  },
  {
   "cell_type": "code",
   "execution_count": 34,
   "id": "e676c79f",
   "metadata": {},
   "outputs": [
    {
     "name": "stdout",
     "output_type": "stream",
     "text": [
      "intercept  -0.43355618641462784\n",
      "              0         1\n",
      "coeff  1.194071 -2.004659\n",
      "AIC 20511.458635303272\n"
     ]
    }
   ],
   "source": [
    "logit_reg = LogisticRegression(penalty=\"l2\", C=1e42, solver='liblinear')\n",
    "logit_reg.fit(X_train, y_train)\n",
    "print('intercept ', logit_reg.intercept_[0])\n",
    "print(pd.DataFrame({'coeff': logit_reg.coef_[0]}, index=X_train.columns).transpose())\n",
    "print('AIC', AIC_score(y_test, logit_reg.predict(X_test), df = len(X_train.columns)\n",
    "+ 1))"
   ]
  },
  {
   "cell_type": "code",
   "execution_count": 35,
   "id": "aaa08764",
   "metadata": {
    "scrolled": true
   },
   "outputs": [
    {
     "name": "stdout",
     "output_type": "stream",
     "text": [
      "Confusion Matrix (Accuracy 0.9137)\n",
      "\n",
      "       Prediction\n",
      "Actual    0    1\n",
      "     0 1395  165\n",
      "     1  104 1454\n",
      "Confusion Matrix (Accuracy 0.9179)\n",
      "\n",
      "       Prediction\n",
      "Actual   0   1\n",
      "     0 942 104\n",
      "     1  68 980\n"
     ]
    }
   ],
   "source": [
    "# training confusion matrix\n",
    "classificationSummary(y_train, logit_reg.predict(X_train))\n",
    "# validation confusion matrix\n",
    "classificationSummary(y_test, logit_reg.predict(X_test))\n",
    "bal_log_acc = accuracy_score(y_test, logit_reg.predict(X_test))"
   ]
  },
  {
   "cell_type": "code",
   "execution_count": 36,
   "id": "a139a470",
   "metadata": {},
   "outputs": [
    {
     "data": {
      "image/png": "[encoded data removed]",
      "text/plain": [
       "<Figure size 432x288 with 1 Axes>"
      ]
     },
     "metadata": {
      "needs_background": "light"
     },
     "output_type": "display_data"
    }
   ],
   "source": [
    "logit_roc_auc = roc_auc_score(y_test, logit_reg.predict(X_test))\n",
    "fpr, tpr, thresholds = roc_curve(y_test, logit_reg.predict_proba(X_test)[:,1])\n",
    "plt.figure()\n",
    "plt.plot(fpr, tpr, label='Logistic Regression (area = %0.2f)' % logit_roc_auc)\n",
    "plt.plot([0, 1], [0, 1],'r--')\n",
    "plt.xlim([0.0, 1.0])\n",
    "plt.ylim([0.0, 1.05])\n",
    "plt.xlabel('False Positive Rate')\n",
    "plt.ylabel('True Positive Rate')\n",
    "plt.title('Receiver operating characteristic')\n",
    "plt.legend(loc=\"lower right\")\n",
    "plt.savefig('Log_ROC')\n",
    "plt.show()"
   ]
  },
  {
   "cell_type": "markdown",
   "id": "12b8b56b",
   "metadata": {},
   "source": [
    "### SMOTE SVM"
   ]
  },
  {
   "cell_type": "code",
   "execution_count": 37,
   "id": "44f6e68e",
   "metadata": {},
   "outputs": [
    {
     "name": "stdout",
     "output_type": "stream",
     "text": [
      "Confusion Matrix (Accuracy 0.9183)\n",
      "\n",
      "       Prediction\n",
      "Actual   0   1\n",
      "     0 934 112\n",
      "     1  59 989\n"
     ]
    }
   ],
   "source": [
    "svc = SVC(random_state = 1)\n",
    "svc.fit(X_train, y_train)\n",
    "classificationSummary(y_test, svc.predict(X_test))\n",
    "bal_svm_acc = accuracy_score(y_test, svc.predict(X_test))"
   ]
  },
  {
   "cell_type": "markdown",
   "id": "3ed05ef7",
   "metadata": {},
   "source": [
    "## Summary"
   ]
  },
  {
   "cell_type": "code",
   "execution_count": 83,
   "id": "70a2e2a5",
   "metadata": {},
   "outputs": [
    {
     "name": "stdout",
     "output_type": "stream",
     "text": [
      "Without balancing:\n",
      "Random forest: 0.939\n",
      "Logistic regression: 0.941\n",
      "Kernel SVM: 0.942\n",
      "\n",
      "\n",
      "With balancing:\n",
      "Random forest: 0.938\n",
      "Logistic regression: 0.920\n",
      "Kernel SVM: 0.936\n"
     ]
    }
   ],
   "source": [
    "print('Without balancing:')\n",
    "print('Random forest: {:1.3f}'.format(for_acc))\n",
    "print('Logistic regression: {:1.3f}'.format(log_acc))\n",
    "print('Kernel SVM: {:1.3f}'.format(svm_acc))\n",
    "print('\\n')\n",
    "print('With balancing:')\n",
    "print('Random forest: {:1.3f}'.format(bal_for_acc))\n",
    "print('Logistic regression: {:1.3f}'.format(bal_log_acc))\n",
    "print('Kernel SVM: {:1.3f}'.format(bal_svm_acc))"
   ]
  },
  {
   "cell_type": "code",
   "execution_count": null,
   "id": "079abf97",
   "metadata": {},
   "outputs": [],
   "source": []
  }
 ],
 "metadata": {
  "kernelspec": {
   "display_name": "Python 3",
   "language": "python",
   "name": "python3"
  },
  "language_info": {
   "codemirror_mode": {
    "name": "ipython",
    "version": 3
   },
   "file_extension": ".py",
   "mimetype": "text/x-python",
   "name": "python",
   "nbconvert_exporter": "python",
   "pygments_lexer": "ipython3",
   "version": "3.8.8"
  }
 },
 "nbformat": 4,
 "nbformat_minor": 5
}
